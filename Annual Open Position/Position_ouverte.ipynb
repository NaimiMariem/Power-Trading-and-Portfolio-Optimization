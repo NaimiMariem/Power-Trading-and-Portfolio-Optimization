{
  "nbformat": 4,
  "nbformat_minor": 0,
  "metadata": {
    "colab": {
      "provenance": []
    },
    "kernelspec": {
      "name": "python3",
      "display_name": "Python 3"
    },
    "language_info": {
      "name": "python"
    }
  },
  "cells": [
    {
      "cell_type": "code",
      "execution_count": null,
      "metadata": {
        "colab": {
          "base_uri": "https://localhost:8080/"
        },
        "id": "HxPKtVRtjNsA",
        "outputId": "37723f70-f95f-45e9-d238-958424453568"
      },
      "outputs": [
        {
          "output_type": "stream",
          "name": "stdout",
          "text": [
            "DataFrame pour les prix :\n"
          ]
        }
      ],
      "source": [
        "import pandas as pd\n",
        "from datetime import datetime\n",
        "\n",
        "# Lecture du premier fichier Excel\n",
        "chemin_excel_1 = '/content/courbedeprix.xlsx'\n",
        "df_prix = pd.read_excel(chemin_excel_1, header=None)\n",
        "\n",
        "# Renommer les colonnes comme Date, Heure et Prix respectivement\n",
        "df_prix.columns = ['Date', 'Heure', 'Prix']\n",
        "\n",
        "\n",
        "# Conversion de l'heure en chaînes de caractères\n",
        "df_prix['Heure'] = pd.to_timedelta(df_prix['Heure'], unit='h')\n",
        "\n",
        "\n",
        "\n",
        "# Fusionner les colonnes de date et d'heure pour former un index datetime\n",
        "df_prix['Datetime'] = pd.to_datetime(df_prix['Date']) + df_prix['Heure']\n",
        "df_prix.set_index('Datetime', inplace=True)\n",
        "# Supprimer les colonnes de date et d'heure maintenant que nous avons l'index\n",
        "df_prix.drop(columns=['Date', 'Heure'], inplace=True)\n",
        "\n",
        "# Afficher les premières lignes pour vérification\n",
        "print(\"DataFrame pour les prix :\")\n",
        "\n",
        "\n"
      ]
    },
    {
      "cell_type": "code",
      "source": [
        "\n",
        "\n",
        "\n",
        "# Lecture du deuxième fichier Excel (trois feuilles de calcul)\n",
        "chemin_excel_2 = '/content/PEGC 2025.xlsx'\n",
        "df_achat = pd.read_excel(chemin_excel_2, sheet_name='Puissances Achat')\n",
        "df_vente = pd.read_excel(chemin_excel_2, sheet_name='Puissance Vente')\n",
        "df_total = pd.read_excel(chemin_excel_2, sheet_name='Total')\n",
        "\n",
        "\n",
        "\n",
        "\n",
        "\n",
        "\n",
        "print(\"\\nDataFrame pour Total :\")\n",
        "\n",
        "print(df_total.shape[0])\n"
      ],
      "metadata": {
        "colab": {
          "base_uri": "https://localhost:8080/"
        },
        "id": "yf22si-PqZx7",
        "outputId": "ff55f367-46d3-4fb4-83fc-16b5ffdd5df9"
      },
      "execution_count": null,
      "outputs": [
        {
          "output_type": "stream",
          "name": "stdout",
          "text": [
            "\n",
            "DataFrame pour Total :\n",
            "8761\n"
          ]
        }
      ]
    },
    {
      "cell_type": "code",
      "source": [
        "# Filtrer les valeurs incorrectes dans la colonne \"Total\" en utilisant une expression régulière\n",
        "df_total['Datetime'] = df_total['Total'].str.extract(r'(\\d{2}\\.\\d{2}\\. \\d{2}:\\d{2})', expand=False)\n",
        "\n",
        "# Convertir la colonne \"Datetime\" en format datetime\n",
        "df_total['Datetime'] = pd.to_datetime(df_total['Datetime'], format='%d.%m. %H:%M', errors='coerce')\n",
        "\n",
        "# Remplacer les années 1900 par l'année 2025\n",
        "df_total['Datetime'] = df_total['Datetime'].mask(df_total['Datetime'].dt.year == 1900, df_total['Datetime'] + pd.DateOffset(years=2025-1900))\n",
        "\n",
        "# Suppression des valeurs incorrectes maintenant que nous avons la colonne de datetime\n",
        "df_total.drop(columns=['Total'], inplace=True)\n",
        "\n",
        "# Supprimer les lignes avec des valeurs NaN dans la colonne de datetime\n",
        "df = df_total.dropna(subset=['Datetime'])\n",
        "\n",
        "# Réorganiser les colonnes pour mettre la colonne \"Datetime\" en première position\n",
        "cols = list(df.columns)\n",
        "cols.remove('Datetime')\n",
        "cols.insert(0, 'Datetime')\n",
        "df_total = df_total[cols]\n",
        "\n",
        "print(df_total.shape[0])"
      ],
      "metadata": {
        "id": "AI9pjKl_EdSf",
        "colab": {
          "base_uri": "https://localhost:8080/"
        },
        "outputId": "a5dd5545-cdca-48c6-e8b3-9a0b876a36e9"
      },
      "execution_count": null,
      "outputs": [
        {
          "output_type": "stream",
          "name": "stdout",
          "text": [
            "8761\n"
          ]
        }
      ]
    },
    {
      "cell_type": "code",
      "source": [
        "# Supprimer la première colonne (correspondant aux dates) et la première ligne (correspondant aux titres)\n",
        "df_achat_sans= df_achat.iloc[:, 1:]\n",
        "\n",
        "\n",
        "\n",
        "# Calculer la somme des valeurs pour chaque ligne de la feuille de calcul \"ventes\" (sauf la première colonne et la première ligne)\n",
        "somme_achat = df_achat_sans.sum(axis=1)\n",
        "\n",
        "print(somme_achat.shape[0])\n",
        "# Ajouter une colonne \"vente Mwh\" à la DataFrame total avec les valeurs de somme\n",
        "df_total['Achat Mwh'] = somme_achat\n",
        "print(df_total.shape[0])\n",
        "# Afficher les premières lignes de la DataFrame pour vérification\n",
        "\n"
      ],
      "metadata": {
        "id": "YBiWXvI1ybXP",
        "colab": {
          "base_uri": "https://localhost:8080/"
        },
        "outputId": "4ac49193-79e7-4f63-f466-9f830896e03e"
      },
      "execution_count": null,
      "outputs": [
        {
          "output_type": "stream",
          "name": "stdout",
          "text": [
            "8761\n",
            "8761\n"
          ]
        }
      ]
    },
    {
      "cell_type": "code",
      "source": [
        "\n",
        "\n",
        "def handle_dst(df):\n",
        "    # Supprimer les heures 03:00 du matin qui suivent le changement d'heure de mars\n",
        "    df = df[~((df['Datetime'].dt.month == 3) & (df['Datetime'].dt.day == 30) & (df['Datetime'].dt.hour == 3))]\n",
        "\n",
        "    # Dupliquer les heures 02:00 du matin pendant le changement d'heure d'octobre\n",
        "    df_october = df[(df['Datetime'].dt.month == 10) & (df['Datetime'].dt.day == 26) & (df['Datetime'].dt.hour == 2)]\n",
        "    df_duplicated = df_october.copy()\n",
        "    df_duplicated['Datetime'] += pd.Timedelta(hours=1)\n",
        "\n",
        "    # Obtenir l'indice de la ligne originale\n",
        "    idx = df.index[df['Datetime'] == pd.Timestamp('2025-10-26 02:00:00')][0]\n",
        "\n",
        "    # Insérer la ligne dupliquée à la même position que la ligne originale\n",
        "    df = pd.concat([df.iloc[:idx+1], df_duplicated, df.iloc[idx+1:]], ignore_index=True)\n",
        "\n",
        "    return df\n",
        "\n",
        "def handle_dst_s(series):\n",
        "    # Supprimer les heures 03:00 du matin qui suivent le changement d'heure de mars\n",
        "    series = series[~((series.index.month == 3) & (series.index.day == 30) & (series.index.hour == 3))]\n",
        "\n",
        "    # Dupliquer les heures 02:00 du matin pendant le changement d'heure d'octobre\n",
        "    october_series = series[(series.index.month == 10) & (series.index.day == 26) & (series.index.hour == 2)]\n",
        "    duplicated_series = october_series.copy()\n",
        "    duplicated_series.index += pd.Timedelta(hours=1)\n",
        "\n",
        "    # Obtenir l'indice de la ligne originale\n",
        "    idx = series.index.get_loc(pd.Timestamp('2025-10-26 02:00:00'))\n",
        "\n",
        "    # Insérer la ligne dupliquée à la même position que la ligne originale\n",
        "    series = pd.concat([series.iloc[:idx+1], duplicated_series, series.iloc[idx+1:]])\n",
        "\n",
        "    return series\n",
        "\n",
        "\n",
        "\n",
        "df_total = handle_dst(df_total)\n",
        "print(df_total.head(-5))\n",
        "print(df_total.shape[0])"
      ],
      "metadata": {
        "colab": {
          "base_uri": "https://localhost:8080/"
        },
        "id": "m2J7gyNURitA",
        "outputId": "1b612b6d-f206-42de-ca3e-e0d3b879b0cf"
      },
      "execution_count": null,
      "outputs": [
        {
          "output_type": "stream",
          "name": "stdout",
          "text": [
            "                Datetime  Somme achats planifiés  [MWh]  \\\n",
            "0    2025-01-01 01:00:00                           86.8   \n",
            "1    2025-01-01 02:00:00                           86.8   \n",
            "2    2025-01-01 03:00:00                           86.9   \n",
            "3    2025-01-01 04:00:00                           86.8   \n",
            "4    2025-01-01 05:00:00                           86.8   \n",
            "...                  ...                            ...   \n",
            "8751 2025-12-31 15:00:00                           87.6   \n",
            "8752 2025-12-31 16:00:00                           87.6   \n",
            "8753 2025-12-31 17:00:00                           87.6   \n",
            "8754 2025-12-31 18:00:00                           87.5   \n",
            "8755 2025-12-31 19:00:00                           87.6   \n",
            "\n",
            "      Somme achats confirmés  [MWh]  Somme ventes planifiées  [MWh]  \\\n",
            "0                                60                               0   \n",
            "1                                60                               0   \n",
            "2                                60                               0   \n",
            "3                                60                               0   \n",
            "4                                60                               0   \n",
            "...                             ...                             ...   \n",
            "8751                            118                               0   \n",
            "8752                            118                               0   \n",
            "8753                            118                               0   \n",
            "8754                            118                               0   \n",
            "8755                            118                               0   \n",
            "\n",
            "      Somme ventes confirmées  [MWh]  Somme Short  [MWh]  Somme Long  [MWh]  \\\n",
            "0                                  1                 0.0               35.8   \n",
            "1                                  1                 0.0               37.6   \n",
            "2                                  1                 0.0               38.2   \n",
            "3                                  1                 0.0               37.9   \n",
            "4                                  1                 0.0               36.7   \n",
            "...                              ...                 ...                ...   \n",
            "8751                               1                 0.0               31.0   \n",
            "8752                               1                 0.0               35.5   \n",
            "8753                               1                 0.0               41.1   \n",
            "8754                               1                 0.0               45.4   \n",
            "8755                               1                 0.0               49.9   \n",
            "\n",
            "      Verbrauch  [MWh]  Achat Mwh  \n",
            "0                110.0      146.8  \n",
            "1                108.2      146.8  \n",
            "2                107.7      146.9  \n",
            "3                107.9      146.8  \n",
            "4                109.1      146.8  \n",
            "...                ...        ...  \n",
            "8751             173.6      205.6  \n",
            "8752             169.1      205.6  \n",
            "8753             163.5      205.6  \n",
            "8754             159.1      205.5  \n",
            "8755             154.7      205.6  \n",
            "\n",
            "[8756 rows x 9 columns]\n",
            "8761\n"
          ]
        }
      ]
    },
    {
      "cell_type": "code",
      "source": [
        "# Extraction des données pour l'année 2025\n",
        "df_prix_2025 = df_prix.loc[df_prix.index.year == 2025]\n",
        "\n",
        "\n",
        "# Suppression de la première ligne\n",
        "df_prix_2025 = df_prix_2025.iloc[1:]\n",
        "df_prix_2025 = handle_dst_s(df_prix_2025)\n",
        "\n",
        "# Afficher les premières lignes de la DataFrame pour vérification\n",
        "print(\"\\nDataFrame des prix pour l'année 2025 :\")\n",
        "\n",
        "print(df_prix_2025.shape[0])\n",
        "print(df_prix_2025.head(-1))"
      ],
      "metadata": {
        "colab": {
          "base_uri": "https://localhost:8080/"
        },
        "id": "lRwuZAT1zUYB",
        "outputId": "86b1e5f0-2d8c-44ef-b723-fd450de17a90"
      },
      "execution_count": null,
      "outputs": [
        {
          "output_type": "stream",
          "name": "stdout",
          "text": [
            "\n",
            "DataFrame des prix pour l'année 2025 :\n",
            "8759\n",
            "                       Prix\n",
            "Datetime                   \n",
            "2025-01-01 01:00:00   90.86\n",
            "2025-01-01 02:00:00   81.50\n",
            "2025-01-01 03:00:00   76.62\n",
            "2025-01-01 04:00:00   70.35\n",
            "2025-01-01 05:00:00   68.86\n",
            "...                     ...\n",
            "2025-12-31 18:00:00  128.59\n",
            "2025-12-31 19:00:00  137.85\n",
            "2025-12-31 20:00:00  140.85\n",
            "2025-12-31 21:00:00  120.92\n",
            "2025-12-31 22:00:00  112.45\n",
            "\n",
            "[8758 rows x 1 columns]\n"
          ]
        }
      ]
    },
    {
      "cell_type": "code",
      "source": [
        "# Colonnes à conserver\n",
        "colonnes_conservees = ['Achat Mwh', 'Somme ventes confirmées  [MWh]', 'Verbrauch  [MWh]', 'Somme Short  [MWh]','Somme Long  [MWh]']\n",
        "df_total.set_index('Datetime', inplace=True)\n",
        "# Fusion des DataFrames en utilisant l'index comme clé de fusion\n",
        "df_fusion = df_prix_2025.merge(df_total[colonnes_conservees], how='left', left_index=True, right_index=True)\n",
        "\n",
        "# Afficher les premières lignes du DataFrame fusionné pour vérification\n",
        "print(\"\\nDataFrame fusionné des prix pour l'année 2025 avec Total (colonnes conservées) :\")\n",
        "print(df_fusion.head(-1))\n"
      ],
      "metadata": {
        "colab": {
          "base_uri": "https://localhost:8080/"
        },
        "id": "zScdl8PidSpy",
        "outputId": "7bf7522e-d6ad-4228-c98b-2ae30204ca29"
      },
      "execution_count": null,
      "outputs": [
        {
          "output_type": "stream",
          "name": "stdout",
          "text": [
            "\n",
            "DataFrame fusionné des prix pour l'année 2025 avec Total (colonnes conservées) :\n",
            "                       Prix  Achat Mwh  Somme ventes confirmées  [MWh]  \\\n",
            "Datetime                                                                 \n",
            "2025-01-01 01:00:00   90.86      146.8                               1   \n",
            "2025-01-01 02:00:00   81.50      146.8                               1   \n",
            "2025-01-01 03:00:00   76.62      146.9                               1   \n",
            "2025-01-01 04:00:00   70.35      146.8                               1   \n",
            "2025-01-01 05:00:00   68.86      146.8                               1   \n",
            "...                     ...        ...                             ...   \n",
            "2025-12-31 18:00:00  128.59      205.5                               1   \n",
            "2025-12-31 19:00:00  137.85      205.6                               1   \n",
            "2025-12-31 20:00:00  140.85      205.6                               1   \n",
            "2025-12-31 21:00:00  120.92      144.5                               1   \n",
            "2025-12-31 22:00:00  112.45      144.5                               1   \n",
            "\n",
            "                     Verbrauch  [MWh]  Somme Short  [MWh]  Somme Long  [MWh]  \n",
            "Datetime                                                                      \n",
            "2025-01-01 01:00:00             110.0                 0.0               35.8  \n",
            "2025-01-01 02:00:00             108.2                 0.0               37.6  \n",
            "2025-01-01 03:00:00             107.7                 0.0               38.2  \n",
            "2025-01-01 04:00:00             107.9                 0.0               37.9  \n",
            "2025-01-01 05:00:00             109.1                 0.0               36.7  \n",
            "...                               ...                 ...                ...  \n",
            "2025-12-31 18:00:00             159.1                 0.0               45.4  \n",
            "2025-12-31 19:00:00             154.7                 0.0               49.9  \n",
            "2025-12-31 20:00:00             143.2                 0.0               61.4  \n",
            "2025-12-31 21:00:00             128.3                 0.0               15.2  \n",
            "2025-12-31 22:00:00             119.4                 0.0               24.1  \n",
            "\n",
            "[8760 rows x 6 columns]\n"
          ]
        }
      ]
    },
    {
      "cell_type": "code",
      "source": [
        "# Filtrer les heures de pointe et les heures creuses dans le DataFrame fusionné\n",
        "# Les heures de pointe sont les jours de la semaine entre 8h et 20h\n",
        "df_peakload = df_fusion[(df_fusion.index.hour >= 9) & (df_fusion.index.hour < 21) & (df_fusion.index.weekday < 5)].copy()\n",
        "\n",
        "\n",
        "# Les heures creuses sont les heures en dehors de cette plage horaire\n",
        "#df_offpeak = df_fusion[~df_peakload]\n",
        "df_offpeak = df_fusion[~((df_fusion.index.hour >= 9) & (df_fusion.index.hour < 21) & (df_fusion.index.weekday < 5))].copy()\n",
        "\n",
        "# Afficher les premières lignes des DataFrames pour vérification\n",
        "print(\"\\nDataFrame pour les heures de pointe (peakload) :\")\n",
        "print(df_peakload.head())\n",
        "\n",
        "print(\"\\nDataFrame pour les heures creuses (offpeak) :\")\n",
        "print(df_offpeak.head())"
      ],
      "metadata": {
        "colab": {
          "base_uri": "https://localhost:8080/"
        },
        "id": "7ir-uYA0e7EJ",
        "outputId": "20e39e0a-727a-4ffc-c1f7-14b72592460c"
      },
      "execution_count": null,
      "outputs": [
        {
          "output_type": "stream",
          "name": "stdout",
          "text": [
            "\n",
            "DataFrame pour les heures de pointe (peakload) :\n",
            "                       Prix  Achat Mwh  Somme ventes confirmées  [MWh]  \\\n",
            "Datetime                                                                 \n",
            "2025-01-01 09:00:00  101.35      207.9                               1   \n",
            "2025-01-01 10:00:00  107.54      207.9                               1   \n",
            "2025-01-01 11:00:00  108.65      207.9                               1   \n",
            "2025-01-01 12:00:00  108.00      207.8                               1   \n",
            "2025-01-01 13:00:00  109.61      207.9                               1   \n",
            "\n",
            "                     Verbrauch  [MWh]  Somme Short  [MWh]  Somme Long  [MWh]  \n",
            "Datetime                                                                      \n",
            "2025-01-01 09:00:00             132.2                 0.0               74.7  \n",
            "2025-01-01 10:00:00             136.3                 0.0               70.6  \n",
            "2025-01-01 11:00:00             138.8                 0.0               68.1  \n",
            "2025-01-01 12:00:00             138.6                 0.0               68.2  \n",
            "2025-01-01 13:00:00             137.0                 0.0               69.9  \n",
            "\n",
            "DataFrame pour les heures creuses (offpeak) :\n",
            "                      Prix  Achat Mwh  Somme ventes confirmées  [MWh]  \\\n",
            "Datetime                                                                \n",
            "2025-01-01 01:00:00  90.86      146.8                               1   \n",
            "2025-01-01 02:00:00  81.50      146.8                               1   \n",
            "2025-01-01 03:00:00  76.62      146.9                               1   \n",
            "2025-01-01 04:00:00  70.35      146.8                               1   \n",
            "2025-01-01 05:00:00  68.86      146.8                               1   \n",
            "\n",
            "                     Verbrauch  [MWh]  Somme Short  [MWh]  Somme Long  [MWh]  \n",
            "Datetime                                                                      \n",
            "2025-01-01 01:00:00             110.0                 0.0               35.8  \n",
            "2025-01-01 02:00:00             108.2                 0.0               37.6  \n",
            "2025-01-01 03:00:00             107.7                 0.0               38.2  \n",
            "2025-01-01 04:00:00             107.9                 0.0               37.9  \n",
            "2025-01-01 05:00:00             109.1                 0.0               36.7  \n"
          ]
        }
      ]
    },
    {
      "cell_type": "code",
      "source": [
        "# Calculer la valeur pour chaque heure\n",
        "\n",
        "#df_peakload['OP MWh'] = (df_peakload['Achat Mwh'] - df_peakload['Somme ventes confirmées  [MWh]'] - df_peakload['Verbrauch  [MWh]']) #* df_peakload['Prix']\n",
        "#df_offpeak['OP MWh'] = (df_offpeak['Achat Mwh'] - df_offpeak['Somme ventes confirmées  [MWh]'] - df_offpeak['Verbrauch  [MWh]']) #* df_offpeak['Prix']\n",
        "df_peakload['OP MWh'] = (df_peakload['Achat Mwh'] - df_peakload['Somme ventes confirmées  [MWh]']- df_peakload['Verbrauch  [MWh]']) #* df_peakload['Prix']\n",
        "df_offpeak['OP MWh'] = (df_offpeak['Achat Mwh'] - df_offpeak['Somme ventes confirmées  [MWh]']- df_offpeak['Verbrauch  [MWh]']) #* df_offpeak['Prix']"
      ],
      "metadata": {
        "id": "N5kTCrSOxPdA"
      },
      "execution_count": null,
      "outputs": []
    },
    {
      "cell_type": "code",
      "source": [
        "# Filtrer toutes les heures de l'année entière\n",
        "df_baseload = df_fusion.copy()\n",
        "\n",
        "# Calculer la valeur pour chaque heure en baseload\n",
        "df_baseload['OP MWh'] = (df_baseload['Achat Mwh'] - df_baseload['Somme ventes confirmées  [MWh]']- df_baseload['Verbrauch  [MWh]']) #* df_baseload['Prix']\n",
        "\n",
        "# Afficher les premières lignes du DataFrame baseload pour vérification\n",
        "print(\"\\nDataFrame pour les heures de baseload (année entière) :\")\n",
        "print(df_baseload.head())\n",
        "print(df_offpeak[\"Somme Long  [MWh]\"].sum()-df_offpeak[\"Somme Short  [MWh]\"].sum())\n"
      ],
      "metadata": {
        "colab": {
          "base_uri": "https://localhost:8080/"
        },
        "id": "jhVB7mNjxnzH",
        "outputId": "a465b21a-2ec4-43ac-9907-5b4ee1f709ef"
      },
      "execution_count": null,
      "outputs": [
        {
          "output_type": "stream",
          "name": "stdout",
          "text": [
            "\n",
            "DataFrame pour les heures de baseload (année entière) :\n",
            "                      Prix  Achat Mwh  Somme ventes confirmées  [MWh]  \\\n",
            "Datetime                                                                \n",
            "2025-01-01 01:00:00  90.86      146.8                               1   \n",
            "2025-01-01 02:00:00  81.50      146.8                               1   \n",
            "2025-01-01 03:00:00  76.62      146.9                               1   \n",
            "2025-01-01 04:00:00  70.35      146.8                               1   \n",
            "2025-01-01 05:00:00  68.86      146.8                               1   \n",
            "\n",
            "                     Verbrauch  [MWh]  Somme Short  [MWh]  Somme Long  [MWh]  \\\n",
            "Datetime                                                                       \n",
            "2025-01-01 01:00:00             110.0                 0.0               35.8   \n",
            "2025-01-01 02:00:00             108.2                 0.0               37.6   \n",
            "2025-01-01 03:00:00             107.7                 0.0               38.2   \n",
            "2025-01-01 04:00:00             107.9                 0.0               37.9   \n",
            "2025-01-01 05:00:00             109.1                 0.0               36.7   \n",
            "\n",
            "                     OP MWh  \n",
            "Datetime                     \n",
            "2025-01-01 01:00:00    35.8  \n",
            "2025-01-01 02:00:00    37.6  \n",
            "2025-01-01 03:00:00    38.2  \n",
            "2025-01-01 04:00:00    37.9  \n",
            "2025-01-01 05:00:00    36.7  \n",
            "1144.7999999999884\n"
          ]
        }
      ]
    },
    {
      "cell_type": "code",
      "source": [
        "import matplotlib.pyplot as plt\n",
        "\n",
        "# Calculer la valeur totale pour peakload, off peak et baseload\n",
        "\n",
        "total_offpeak_Mwh = df_offpeak['OP MWh'].sum() #/5628\n",
        "total_peakload_Mwh = df_peakload['OP MWh'].sum()#/3132-total_offpeak\n",
        "total_baseload_Mwh = df_baseload['OP MWh'].sum()#/8760-total_peakload\n",
        "\n",
        "# Créer un histogramme représentant la valeur totale pour chaque catégorie\n",
        "categories = ['Peakload', 'Off Peak', 'Baseload']\n",
        "valeurs = [total_peakload_Mwh, total_offpeak_Mwh, total_baseload_Mwh]\n",
        "print(valeurs)\n",
        "\n",
        "plt.figure(figsize=(10, 6))\n",
        "bars = plt.bar(categories, valeurs, color=['red', 'blue', 'green'])\n",
        "plt.xlabel('Catégorie')\n",
        "plt.ylabel('Position ouverte MWh')\n",
        "plt.title('Valeur totale pour chaque catégorie')\n",
        "\n",
        "# Ajouter les valeurs exactes au-dessus de chaque barre\n",
        "for bar in bars:\n",
        "    yval = bar.get_height()\n",
        "    plt.text(bar.get_x() + bar.get_width()/2, yval, round(yval, 2), va='bottom', ha='center')\n",
        "\n",
        "plt.show()\n"
      ],
      "metadata": {
        "colab": {
          "base_uri": "https://localhost:8080/",
          "height": 571
        },
        "id": "HmwkEUfZzO9g",
        "outputId": "2f634977-1965-43c5-bdc4-f27a69ac6c78"
      },
      "execution_count": null,
      "outputs": [
        {
          "output_type": "stream",
          "name": "stdout",
          "text": [
            "[-83358.1, 1144.7999999999647, -82213.30000000005]\n"
          ]
        },
        {
          "output_type": "display_data",
          "data": {
            "text/plain": [
              "<Figure size 1000x600 with 1 Axes>"
            ],
            "image/png": "[encoded data removed]"
          },
          "metadata": {}
        }
      ]
    },
    {
      "cell_type": "code",
      "source": [
        "# Calculer la valeur pour chaque heure\n",
        "\n",
        "df_peakload['OP EUR'] = (df_peakload['Achat Mwh'] - df_peakload['Somme ventes confirmées  [MWh]'] - df_peakload['Verbrauch  [MWh]']) * df_peakload['Prix']\n",
        "df_offpeak['OP EUR'] = (df_offpeak['Achat Mwh'] - df_offpeak['Somme ventes confirmées  [MWh]'] - df_offpeak['Verbrauch  [MWh]']) * df_offpeak['Prix']\n",
        "print(df_peakload['OP EUR'].head(-10))\n",
        "# Filtrer toutes les heures de l'année entière\n",
        "df_baseload = df_fusion.copy()\n",
        "\n",
        "# Calculer la valeur pour chaque heure en baseload\n",
        "df_baseload['OP EUR'] = (df_baseload['Achat Mwh'] - df_baseload['Somme ventes confirmées  [MWh]'] - df_baseload['Verbrauch  [MWh]']) * df_baseload['Prix']\n",
        "\n",
        "# Afficher les premières lignes du DataFrame baseload pour vérification\n",
        "print(\"\\nDataFrame pour les heures de baseload (année entière) :\")\n",
        "#print(df_baseload.head())"
      ],
      "metadata": {
        "colab": {
          "base_uri": "https://localhost:8080/"
        },
        "id": "Lu7FrdYeFnq8",
        "outputId": "2b082127-0899-4a85-958b-2f6fcf2fdc45"
      },
      "execution_count": null,
      "outputs": [
        {
          "output_type": "stream",
          "name": "stdout",
          "text": [
            "Datetime\n",
            "2025-01-01 09:00:00    7570.845\n",
            "2025-01-01 10:00:00    7592.324\n",
            "2025-01-01 11:00:00    7399.065\n",
            "2025-01-01 12:00:00    7365.600\n",
            "2025-01-01 13:00:00    7661.739\n",
            "                         ...   \n",
            "2025-12-30 18:00:00    4573.737\n",
            "2025-12-30 19:00:00    5565.476\n",
            "2025-12-30 20:00:00    6933.834\n",
            "2025-12-31 09:00:00    4832.760\n",
            "2025-12-31 10:00:00    3438.342\n",
            "Name: OP EUR, Length: 3122, dtype: float64\n",
            "\n",
            "DataFrame pour les heures de baseload (année entière) :\n"
          ]
        }
      ]
    },
    {
      "cell_type": "code",
      "source": [
        "# Calculer la valeur totale pour peakload, off peak et baseload\n",
        "\n",
        "total_offpeak_EUR = df_offpeak['OP EUR'].sum()#/df_offpeak['Prix'].sum()\n",
        "total_peakload_EUR = df_peakload['OP EUR'].sum()#/df_offpeak['Prix'].sum()-total_baseload\n",
        "total_baseload_EUR = df_baseload['OP EUR'].sum()#/8760- total_peakload\n",
        "\n",
        "# Créer un histogramme représentant la valeur totale pour chaque catégorie\n",
        "categories = ['Peakload', 'Off Peak', 'Baseload']\n",
        "valeurs = [total_peakload_EUR, total_offpeak_EUR, total_baseload_EUR]\n",
        "print(valeurs)\n",
        "\n",
        "plt.figure(figsize=(10, 6))\n",
        "bars = plt.bar(categories, valeurs, color=['red', 'blue', 'green'])\n",
        "plt.xlabel('Catégorie')\n",
        "plt.ylabel('Valeur totale')\n",
        "plt.title('Valeur totale pour chaque catégorie')\n",
        "\n",
        "# Ajouter les valeurs exactes au-dessus de chaque barre\n",
        "for bar in bars:\n",
        "    yval = bar.get_height()\n",
        "    plt.text(bar.get_x() + bar.get_width()/2, yval, round(yval, 2), va='bottom', ha='center')\n",
        "\n",
        "plt.show()"
      ],
      "metadata": {
        "colab": {
          "base_uri": "https://localhost:8080/",
          "height": 583
        },
        "id": "FrkL3D58Ujc1",
        "outputId": "78d33b43-e4dc-4618-fe93-a855ff586369"
      },
      "execution_count": null,
      "outputs": [
        {
          "output_type": "stream",
          "name": "stdout",
          "text": [
            "[-8227880.120000001, -1839901.5990000027, -10067781.719000004]\n"
          ]
        },
        {
          "output_type": "display_data",
          "data": {
            "text/plain": [
              "<Figure size 1000x600 with 1 Axes>"
            ],
            "image/png": "[encoded data removed]"
          },
          "metadata": {}
        }
      ]
    },
    {
      "cell_type": "code",
      "source": [
        "total_offpeak_MW=total_offpeak_Mwh/5628\n",
        "total_peakload_MW=total_peakload_Mwh/3132\n",
        "total_baseload_MW=total_baseload_Mwh/8760\n",
        "\n",
        "# Créer un histogramme représentant la valeur totale pour chaque catégorie\n",
        "categories = ['Peakload', 'Off Peak', 'Baseload']\n",
        "valeurs = [total_peakload_MW, total_offpeak_MW, total_baseload_MW]\n",
        "print(valeurs)\n",
        "\n",
        "plt.figure(figsize=(10, 6))\n",
        "bars = plt.bar(categories, valeurs, color=['red', 'blue', 'green'])\n",
        "plt.xlabel('Catégorie')\n",
        "plt.ylabel('Valeur totale')\n",
        "plt.title('Valeur totale pour chaque catégorie')\n",
        "\n",
        "# Ajouter les valeurs exactes au-dessus de chaque barre\n",
        "for bar in bars:\n",
        "    yval = bar.get_height()\n",
        "    plt.text(bar.get_x() + bar.get_width()/2, yval, round(yval, 2), va='bottom', ha='center')\n",
        "\n",
        "plt.show()"
      ],
      "metadata": {
        "colab": {
          "base_uri": "https://localhost:8080/",
          "height": 583
        },
        "id": "KyoePtRU5a_K",
        "outputId": "fe92bbb9-92f9-4367-a9e7-5be9a958dc8e"
      },
      "execution_count": null,
      "outputs": [
        {
          "output_type": "stream",
          "name": "stdout",
          "text": [
            "[-26.614974457215837, 0.20341151385926878, -9.385079908675804]\n"
          ]
        },
        {
          "output_type": "display_data",
          "data": {
            "text/plain": [
              "<Figure size 1000x600 with 1 Axes>"
            ],
            "image/png": "[encoded data removed]"
          },
          "metadata": {}
        }
      ]
    },
    {
      "cell_type": "code",
      "source": [
        "prix_peakload_moy=df_peakload['Prix'].mean()\n",
        "prix_offpeak_moy=df_offpeak['Prix'].mean()\n",
        "prix_baseload_moy=df_baseload['Prix'].mean()\n",
        "\n",
        "total_baseload_VH=total_baseload_EUR/(prix_baseload_moy*8760)\n",
        "total_offpeak_VH=total_offpeak_EUR/(prix_offpeak_moy*5628)\n",
        "total_peakload_VH=total_peakload_EUR/(prix_peakload_moy*3132)\n",
        "\n",
        "\n",
        "# Créer un histogramme représentant la valeur totale pour chaque catégorie\n",
        "categories = ['Peakload', 'Off Peak', 'Baseload']\n",
        "valeurs = [total_peakload_VH, total_offpeak_VH, total_baseload_VH]\n",
        "print(valeurs)\n",
        "\n",
        "plt.figure(figsize=(10, 6))\n",
        "bars = plt.bar(categories, valeurs, color=['red', 'blue', 'green'])\n",
        "plt.xlabel('Catégorie')\n",
        "plt.ylabel('Valeur totale')\n",
        "plt.title('Valeur totale pour chaque catégorie')\n",
        "\n",
        "# Ajouter les valeurs exactes au-dessus de chaque barre\n",
        "for bar in bars:\n",
        "    yval = bar.get_height()\n",
        "    plt.text(bar.get_x() + bar.get_width()/2, yval, round(yval, 2), va='bottom', ha='center')\n",
        "\n",
        "plt.show()"
      ],
      "metadata": {
        "colab": {
          "base_uri": "https://localhost:8080/",
          "height": 583
        },
        "id": "HzZFLglU66jU",
        "outputId": "2c47d472-2063-40f4-c8cc-afcec7b383bd"
      },
      "execution_count": null,
      "outputs": [
        {
          "output_type": "stream",
          "name": "stdout",
          "text": [
            "[-30.906426500550847, -4.6054317531881805, -15.123126446951087]\n"
          ]
        },
        {
          "output_type": "display_data",
          "data": {
            "text/plain": [
              "<Figure size 1000x600 with 1 Axes>"
            ],
            "image/png": "[encoded data removed]"
          },
          "metadata": {}
        }
      ]
    }
  ]
}